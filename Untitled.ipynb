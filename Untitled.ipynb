{
 "cells": [
  {
   "cell_type": "code",
   "execution_count": null,
   "metadata": {},
   "outputs": [
    {
     "name": "stdout",
     "output_type": "stream",
     "text": [
      "a\n",
      "\n",
      "b\n",
      "\n",
      "c\n",
      "\n",
      "d\n",
      "\n",
      "e\n",
      "\n"
     ]
    }
   ],
   "source": [
    "# wap the pager program your solution not should for file name and display the text file 5 lines at a time pausing each time\n",
    "# to ask the user press any key to continue and press \"Q\" to quit\n",
    "f=open(\"file1.txt\",\"r\")\n",
    "for i,line in enumerate(f):\n",
    "    if i%5==0 and i!=0:\n",
    "        x=input(\"enter any key to continue,q to quit: \")\n",
    "        if x.lower()=='q':\n",
    "            break\n",
    "        else:\n",
    "            print(line)\n",
    "    else:\n",
    "        print(line)\n",
    "        "
   ]
  },
  {
   "cell_type": "code",
   "execution_count": 2,
   "metadata": {},
   "outputs": [
    {
     "ename": "AttributeError",
     "evalue": "__enter__",
     "output_type": "error",
     "traceback": [
      "\u001b[1;31m---------------------------------------------------------------------------\u001b[0m",
      "\u001b[1;31mAttributeError\u001b[0m                            Traceback (most recent call last)",
      "\u001b[1;32m<ipython-input-2-21cd8e8281b1>\u001b[0m in \u001b[0;36m<module>\u001b[1;34m\u001b[0m\n\u001b[1;32m----> 1\u001b[1;33m \u001b[1;32mwith\u001b[0m\u001b[1;33m(\u001b[0m\u001b[1;34m\"a1.txt\"\u001b[0m\u001b[1;33m)\u001b[0m \u001b[1;32mas\u001b[0m \u001b[0mf\u001b[0m\u001b[1;33m:\u001b[0m\u001b[1;33m\u001b[0m\u001b[1;33m\u001b[0m\u001b[0m\n\u001b[0m\u001b[0;32m      2\u001b[0m     \u001b[0mf\u001b[0m\u001b[1;33m.\u001b[0m\u001b[0mseek\u001b[0m\u001b[1;33m(\u001b[0m\u001b[1;36m0\u001b[0m\u001b[1;33m)\u001b[0m\u001b[1;33m\u001b[0m\u001b[1;33m\u001b[0m\u001b[0m\n\u001b[0;32m      3\u001b[0m     \u001b[0mprint\u001b[0m\u001b[1;33m(\u001b[0m\u001b[0mf\u001b[0m\u001b[1;33m.\u001b[0m\u001b[0mread\u001b[0m\u001b[1;33m(\u001b[0m\u001b[1;33m)\u001b[0m\u001b[1;33m)\u001b[0m\u001b[1;33m\u001b[0m\u001b[1;33m\u001b[0m\u001b[0m\n",
      "\u001b[1;31mAttributeError\u001b[0m: __enter__"
     ]
    }
   ],
   "source": [
    "with(\"a1.txt\") as f:\n",
    "    f.seek(0)\n",
    "    print(f.read())"
   ]
  },
  {
   "cell_type": "code",
   "execution_count": null,
   "metadata": {},
   "outputs": [],
   "source": [
    "# wap that proms then open opes that file and looking for the lines in the form of and vount this line \n",
    "# and extrct the floting values from each of this line and compute the avrage of those values \n",
    "# f=open(\"mbox-short.txt\")\n",
    "# x=f.readline()\n",
    "import re\n",
    "\n",
    "# Prompt the user to enter the filename\n",
    "filename = input(\"Enter the name of the file (with .txt extension): \")\n",
    "\n",
    "try:\n",
    "    # Open the file in read mode\n",
    "    file = open(filename, 'r')\n",
    "    \n",
    "    # Initialize variables to store the floating-point values and count the lines\n",
    "    float_values = []  \n",
    "    line_count = 0  \n",
    "    \n",
    "    # Read each line from the file\n",
    "    for line in file:\n",
    "        # Use regex to find all floating-point numbers in the current line\n",
    "        extracted_floats = [float(num) for num in re.findall(r\"[-+]?\\d*\\.\\d+|\\d+\", line)]\n",
    "        \n",
    "        # If the line contains floating-point numbers, process it\n",
    "        if extracted_floats:\n",
    "            line_count += 1  # Increment the line count\n",
    "            float_values.extend(extracted_floats)  # Add the extracted numbers to the list\n",
    "    \n",
    "    # Close the file after processing\n",
    "    file.close()\n",
    "\n",
    "    # If we found any lines with floats, calculate and display the average\n",
    "    if line_count > 0:\n",
    "        average = sum(float_values) / len(float_values)\n",
    "        print(f\"Found {line_count} lines with floating-point values.\")\n",
    "        print(f\"Average of the extracted values: {average}\")\n",
    "    else:\n",
    "        print(\"No lines with floating-point values found.\")\n",
    "\n",
    "except FileNotFoundError:\n",
    "    print(f\"Error: The file '{filename}' was not found.\")\n"
   ]
  },
  {
   "cell_type": "code",
   "execution_count": 2,
   "metadata": {},
   "outputs": [
    {
     "name": "stdout",
     "output_type": "stream",
     "text": [
      "20.269400000000005\n",
      "0.7507185185185187\n"
     ]
    }
   ],
   "source": [
    "f=open(\"abcd.txt\")\n",
    "count,total=0,0\n",
    "for i in f:\n",
    "    if i.startswith(\"X-DSPAM-Confidence:\"):\n",
    "        x=i.find(\"0\")\n",
    "        count+=1\n",
    "        total+=float(i[x:])\n",
    "print(total)\n",
    "print(total/count)"
   ]
  },
  {
   "cell_type": "code",
   "execution_count": 22,
   "metadata": {},
   "outputs": [
    {
     "name": "stdout",
     "output_type": "stream",
     "text": [
      "stephen.marquard@uct.ac.za\n",
      "stephen.marquard@uct.ac.za\n",
      "louis@media.berkeley.edu\n",
      "louis@media.berkeley.edu\n",
      "zqian@umich.edu\n",
      "zqian@umich.edu\n",
      "rjlowe@iupui.edu\n",
      "rjlowe@iupui.edu\n",
      "zqian@umich.edu\n",
      "zqian@umich.edu\n",
      "rjlowe@iupui.edu\n",
      "rjlowe@iupui.edu\n",
      "cwen@iupui.edu\n",
      "cwen@iupui.edu\n",
      "cwen@iupui.edu\n",
      "cwen@iupui.edu\n",
      "gsilver@umich.edu\n",
      "gsilver@umich.edu\n",
      "gsilver@umich.edu\n",
      "gsilver@umich.edu\n",
      "zqian@umich.edu\n",
      "zqian@umich.edu\n",
      "gsilver@umich.edu\n",
      "gsilver@umich.edu\n",
      "wagnermr@iupui.edu\n",
      "wagnermr@iupui.edu\n",
      "zqian@umich.edu\n",
      "zqian@umich.edu\n",
      "antranig@caret.cam.ac.uk\n",
      "antranig@caret.cam.ac.uk\n",
      "gopal.ramasammycook@gmail.com\n",
      "gopal.ramasammycook@gmail.com\n",
      "david.horwitz@uct.ac.za\n",
      "david.horwitz@uct.ac.za\n",
      "david.horwitz@uct.ac.za\n",
      "david.horwitz@uct.ac.za\n",
      "david.horwitz@uct.ac.za\n",
      "david.horwitz@uct.ac.za\n",
      "david.horwitz@uct.ac.za\n",
      "david.horwitz@uct.ac.za\n",
      "stephen.marquard@uct.ac.za\n",
      "stephen.marquard@uct.ac.za\n",
      "louis@media.berkeley.edu\n",
      "louis@media.berkeley.edu\n",
      "louis@media.berkeley.edu\n",
      "louis@media.berkeley.edu\n",
      "ray@media.berkeley.edu\n",
      "ray@media.berkeley.edu\n",
      "cwen@iupui.edu\n",
      "cwen@iupui.edu\n",
      "cwen@iupui.edu\n",
      "cwen@iupui.edu\n",
      "cwen@iupui.edu\n",
      "cwen@iupui.edu\n",
      "54\n"
     ]
    }
   ],
   "source": [
    "# find a line that startswith from and parse e-mail id and also print the count of this type of line\n",
    "# make sure not to include lines that starts with form; \n",
    "f=open(\"abcd.txt\")\n",
    "count=0\n",
    "for i in f:\n",
    "    if i.startswith(\"From\"):\n",
    "        print(i.split()[1])\n",
    "        count+=1\n",
    "print(count)"
   ]
  },
  {
   "cell_type": "code",
   "execution_count": 23,
   "metadata": {},
   "outputs": [
    {
     "name": "stdout",
     "output_type": "stream",
     "text": [
      "stephen.marquard@uct.ac.za\n",
      "louis@media.berkeley.edu\n",
      "zqian@umich.edu\n",
      "rjlowe@iupui.edu\n",
      "zqian@umich.edu\n",
      "rjlowe@iupui.edu\n",
      "cwen@iupui.edu\n",
      "cwen@iupui.edu\n",
      "gsilver@umich.edu\n",
      "gsilver@umich.edu\n",
      "zqian@umich.edu\n",
      "gsilver@umich.edu\n",
      "wagnermr@iupui.edu\n",
      "zqian@umich.edu\n",
      "antranig@caret.cam.ac.uk\n",
      "gopal.ramasammycook@gmail.com\n",
      "david.horwitz@uct.ac.za\n",
      "david.horwitz@uct.ac.za\n",
      "david.horwitz@uct.ac.za\n",
      "david.horwitz@uct.ac.za\n",
      "stephen.marquard@uct.ac.za\n",
      "louis@media.berkeley.edu\n",
      "louis@media.berkeley.edu\n",
      "ray@media.berkeley.edu\n",
      "cwen@iupui.edu\n",
      "cwen@iupui.edu\n",
      "cwen@iupui.edu\n",
      "27\n"
     ]
    }
   ],
   "source": [
    "f=open(\"abcd.txt\")\n",
    "count=0\n",
    "for i in f:\n",
    "    if i.startswith(\"From \"):\n",
    "        count+=1\n",
    "        print(i.split()[1])\n",
    "print(count)"
   ]
  },
  {
   "cell_type": "code",
   "execution_count": 43,
   "metadata": {},
   "outputs": [
    {
     "name": "stdout",
     "output_type": "stream",
     "text": [
      "{'stephen.marquard@uct.ac.za': 2, 'louis@media.berkeley.edu': 3, 'zqian@umich.edu': 4, 'rjlowe@iupui.edu': 2, 'cwen@iupui.edu': 5, 'gsilver@umich.edu': 3, 'wagnermr@iupui.edu': 1, 'antranig@caret.cam.ac.uk': 1, 'gopal.ramasammycook@gmail.com': 1, 'david.horwitz@uct.ac.za': 4, 'ray@media.berkeley.edu': 1}\n",
      "cwen@iupui.edu\n"
     ]
    }
   ],
   "source": [
    "# create a dictnory that map the senders e-mail id to a count of number of times they apper in the file \n",
    "# after a dictnory its produce fine a emailid which has send max number of name\n",
    "f=open(\"abcd.txt\")\n",
    "x={}\n",
    "for i in f:\n",
    "    if i.startswith(\"From \"):\n",
    "        x1=i.split()[1]\n",
    "        x[x1]=x.get(x1,0)+1\n",
    "print(x)\n",
    "# print(max(x.values()))\n",
    "# y=max(x.values())\n",
    "m=max(x,key=x.get)\n",
    "print(m)\n",
    "# for i in x.item():\n",
    "#     for j in "
   ]
  },
  {
   "cell_type": "code",
   "execution_count": 56,
   "metadata": {},
   "outputs": [
    {
     "name": "stdout",
     "output_type": "stream",
     "text": [
      "{'09': 2, '18': 1, '16': 4, '15': 2, '14': 1, '11': 6, '10': 3, '07': 1, '06': 1, '04': 3, '19': 1, '17': 2}\n",
      "11\n"
     ]
    }
   ],
   "source": [
    "# extrct the hour from the same line and also get the count of the hour and print that shorted by hour \n",
    "f=open(\"abcd.txt\")\n",
    "x={}\n",
    "y={}\n",
    "for i in f:\n",
    "    if i.startswith(\"From \"):\n",
    "        x1=i.split()[5][0:2]\n",
    "        x[x1]=x.get(x1,0)+1\n",
    "print(x)\n",
    "m=max(x,key=x.get)\n",
    "print(m)\n",
    "# for i in f:\n",
    "#     if i.startswith(\"From \"):\n",
    "#         if \n",
    "#             x1=i.split()[1]\n",
    "#             x[x1]=y.get(x1,0)+1\n"
   ]
  },
  {
   "cell_type": "code",
   "execution_count": 58,
   "metadata": {},
   "outputs": [
    {
     "ename": "SyntaxError",
     "evalue": "invalid syntax (<ipython-input-58-23383ff64dbf>, line 6)",
     "output_type": "error",
     "traceback": [
      "\u001b[1;36m  File \u001b[1;32m\"<ipython-input-58-23383ff64dbf>\"\u001b[1;36m, line \u001b[1;32m6\u001b[0m\n\u001b[1;33m    a=i.find(:)\u001b[0m\n\u001b[1;37m             ^\u001b[0m\n\u001b[1;31mSyntaxError\u001b[0m\u001b[1;31m:\u001b[0m invalid syntax\n"
     ]
    }
   ],
   "source": [
    "f=open(\"abcd.txt\")\n",
    "d={}\n",
    "\n",
    "for i in f:\n",
    "    if i.startswith(\"From \"):\n",
    "        a=i.find(:)\n",
    "        d[i[a-2,a]]=d.get(d[a-2],0)+1\n",
    "#         x1=i.split()[5][0:2\n",
    "#         x[x1]=x.get(x1,0)+1\n",
    "print(d)\n",
    "l=shorted(d.values())"
   ]
  },
  {
   "cell_type": "code",
   "execution_count": 1,
   "metadata": {},
   "outputs": [
    {
     "name": "stdout",
     "output_type": "stream",
     "text": [
      "12121212121212121212121212121212121212121212121212121212121212121212121212121212121212121212121212121212121212121212121214\n"
     ]
    }
   ],
   "source": [
    "# log file.txt that has log in and log out time with user name of a system you may asumed that all log in and log out \n",
    "# accurs with in a single day wap that a read threw the fie and prints out all user who where online for more than \n",
    "# ohe hour and also print there online time \n",
    "f=open(\"ab.txt\")\n",
    "a=[]\n",
    "for i in f:\n",
    "    x=i.split()\n",
    "    y=x[1]\n",
    "    z=x[2]\n",
    "    y1=y.split(\":\")    \n",
    "    z1=z.split(\":\")\n",
    "    y2=y1[0]*60+y1[1]\n",
    "#     z2=z1[0]*60+z1[1]\n",
    "\n",
    "print(y2)\n",
    "# print(z2)\n",
    "#     y2=y1[0]-z1[0]\n",
    "#     z2=y1[1]-z1[1]\n",
    "#     print(y2,\":\",z2)"
   ]
  },
  {
   "cell_type": "code",
   "execution_count": 20,
   "metadata": {},
   "outputs": [
    {
     "name": "stdout",
     "output_type": "stream",
     "text": [
      "Richie 102\n",
      "Armstrong 78\n",
      "Wirth 166\n",
      "Matz 138\n",
      "Gosling 93\n"
     ]
    }
   ],
   "source": [
    "f=open(\"ab.txt\")\n",
    "lines=[line for line in f]\n",
    "data=[line.split()for line in lines]\n",
    "for i in data:\n",
    "    logout=(int(i[2][:2])*60)+(int(i[2][-2:]))    \n",
    "    login=(int(i[1][:2])*60)+(int(i[1].strip(\":\")[-2:]))\n",
    "    time=logout-login\n",
    "    if time>60:\n",
    "        print(i[0],time)"
   ]
  },
  {
   "cell_type": "code",
   "execution_count": 7,
   "metadata": {},
   "outputs": [
    {
     "name": "stdout",
     "output_type": "stream",
     "text": [
      "Richie 102\n",
      "Armstrong 78\n",
      "Wirth 166\n",
      "Matz 138\n",
      "Gosling 93\n"
     ]
    }
   ],
   "source": [
    "f = open(\"ab.txt\")\n",
    "lines = [line.strip() for line in f]\n",
    "data = [line.split() for line in lines]\n",
    "for i in data:\n",
    "    login_time = i[1]\n",
    "    logout_time = i[2]\n",
    "    login_minutes = int(login_time[:2]) * 60 + int(login_time[3:5])\n",
    "    logout_minutes = int(logout_time[:2]) * 60 + int(logout_time[3:5])\n",
    "    total_time = logout_minutes - login_minutes\n",
    "    if total_time > 60:\n",
    "        print(i[0], total_time)\n"
   ]
  }
 ],
 "metadata": {
  "kernelspec": {
   "display_name": "Python 3",
   "language": "python",
   "name": "python3"
  },
  "language_info": {
   "codemirror_mode": {
    "name": "ipython",
    "version": 3
   },
   "file_extension": ".py",
   "mimetype": "text/x-python",
   "name": "python",
   "nbconvert_exporter": "python",
   "pygments_lexer": "ipython3",
   "version": "3.8.5"
  }
 },
 "nbformat": 4,
 "nbformat_minor": 4
}
