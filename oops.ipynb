{
 "cells": [
  {
   "cell_type": "code",
   "execution_count": 10,
   "metadata": {},
   "outputs": [],
   "source": [
    "# class Mobile:\n",
    "#     def __init__(self):\n",
    "#         self.model=\"Mi\"\n",
    "#         print(id(self))\n",
    "#     def show(self,p):\n",
    "#         price=p\n",
    "#         print(self.model)\n",
    "#         print(price)\n",
    "#     def __del__(self):\n",
    "#         print(\"object deleted\")\n",
    "   "
   ]
  },
  {
   "cell_type": "code",
   "execution_count": 3,
   "metadata": {},
   "outputs": [
    {
     "name": "stdout",
     "output_type": "stream",
     "text": [
      "2239534544448\n",
      "object deleted\n",
      "Mi\n",
      "5000\n",
      "2239534478816\n",
      "object deleted\n",
      "Mi\n",
      "2000\n",
      "2239534544448\n",
      "realme\n",
      "3000\n",
      "2239534478816\n",
      "2239534520688\n",
      "object deleted\n"
     ]
    }
   ],
   "source": [
    "mi=Mobile()\n",
    "mi.show(5000)\n",
    "realme=Mobile()\n",
    "realme.model=\"realme\"\n",
    "mi.show(2000)\n",
    "print(id(mi))\n",
    "realme.show(3000)\n",
    "print(id(realme))\n",
    "apple=Mobile()\n",
    "# del mi"
   ]
  },
  {
   "cell_type": "code",
   "execution_count": 4,
   "metadata": {},
   "outputs": [
    {
     "name": "stdout",
     "output_type": "stream",
     "text": [
      "2239534598752\n"
     ]
    }
   ],
   "source": [
    "a=Mobile()"
   ]
  },
  {
   "cell_type": "code",
   "execution_count": 4,
   "metadata": {},
   "outputs": [
    {
     "name": "stdout",
     "output_type": "stream",
     "text": [
      "enter model name: mi\n",
      "mi 15000\n"
     ]
    }
   ],
   "source": [
    "class Mobile:\n",
    "    def __init__(self,p):\n",
    "        self.model=input(\"enter model name: \")\n",
    "        self.price=p\n",
    "        self.show()\n",
    "    def show(self):\n",
    "        print(self.model,self.price)\n",
    "mi=Mobile(15000)"
   ]
  },
  {
   "cell_type": "code",
   "execution_count": null,
   "metadata": {},
   "outputs": [
    {
     "name": "stdout",
     "output_type": "stream",
     "text": [
      "create your pin123\n",
      "enter your balance50000\n",
      "Press 1 to chack balance\n",
      "Press 2 to chack change pin\n",
      "Press 3 to chack witdraw\n",
      "enter your choise3\n",
      "enter your pin123\n",
      "enter money you want to withdraw1000000000\n",
      "insufficient balance\n",
      "Press 1 to chack balance\n",
      "Press 2 to chack change pin\n",
      "Press 3 to chack witdraw\n"
     ]
    }
   ],
   "source": [
    "# wap to create a class called atm which has the following functionality:\n",
    "#  1. the class should gvie the option to user for the diferent functionality when we create an option.\n",
    "#  2. the class should have methods to create pin,change pin,check balance and withdraw money.\n",
    "#  the code should run in a loop until user specificaly exit from the atm.\n",
    "\n",
    "class Atm:\n",
    "    def __init__(self):\n",
    "        \n",
    "        self.old_pin=int(input(\"create your pin\"))\n",
    "        self.ball=int(input(\"enter your balance\"))\n",
    "        \n",
    "    def show_bal(self):\n",
    "        pin=int(input(\"enter your pin\"))\n",
    "        if pin==self.old_pin:\n",
    "            print(\"your balance is= \",self.ball)\n",
    "        else:\n",
    "            print(\"wrong pin\")\n",
    "    \n",
    "    def change_pin(self):\n",
    "        opin=int(input(\"Enter your old pin\"))\n",
    "        if opin==self.old_pin:\n",
    "            self.old_pin=int(input(\"enter your new pin\"))\n",
    "            \n",
    "    def withdraw(self):\n",
    "        p=int(input(\"enter your pin\"))\n",
    "        if p==self.old_pin:\n",
    "            withmoney=int(input(\"enter money you want to withdraw\"))\n",
    "            if withmoney<self.ball:\n",
    "                self.ball-=withmoney\n",
    "            else:\n",
    "                print(\"insufficient balance\")\n",
    "        else:\n",
    "            print(\"enter valid pin\")\n",
    "            \n",
    "st=Atm()\n",
    "while True:\n",
    "    print(\"Press 1 to chack balance\")\n",
    "    print(\"Press 2 to chack change pin\")\n",
    "    print(\"Press 3 to chack witdraw\")\n",
    "    ch=input(\"enter your choise\")\n",
    "    if ch==\"1\":\n",
    "        st.show_bal()\n",
    "    elif ch==\"2\":\n",
    "        st.change_pin()\n",
    "    elif ch=='3':\n",
    "        st.withdraw()"
   ]
  },
  {
   "cell_type": "code",
   "execution_count": 7,
   "metadata": {},
   "outputs": [
    {
     "name": "stdout",
     "output_type": "stream",
     "text": [
      "enter balance50000\n",
      "how can i helf you\n",
      "        1.press 1 to creat pin\n",
      "        2.press 2 to change pin\n",
      "        3. press to check balance\n",
      "        4.press 4 to withdraw\n",
      "        5.anithing else to exit1\n",
      "Enter pin12\n",
      "pin created successfully\n",
      "how can i helf you\n",
      "        1.press 1 to creat pin\n",
      "        2.press 2 to change pin\n",
      "        3. press to check balance\n",
      "        4.press 4 to withdraw\n",
      "        5.anithing else to exit3\n",
      "enter pin12\n",
      "your balance=  50000\n",
      "how can i helf you\n",
      "        1.press 1 to creat pin\n",
      "        2.press 2 to change pin\n",
      "        3. press to check balance\n",
      "        4.press 4 to withdraw\n",
      "        5.anithing else to exit4\n",
      "enter pin12\n",
      "enter amount to withdraw49999\n",
      "your new balance is=  1\n",
      "success\n"
     ]
    }
   ],
   "source": [
    "class Atm:\n",
    "    def __init__(self):\n",
    "        self.pin=\"\"\n",
    "        self.balance=int(input(\"enter balance\"))\n",
    "        self.menu()\n",
    "    def menu(self):\n",
    "        user=input(\"\"\"how can i helf you\n",
    "        1.press 1 to creat pin\n",
    "        2.press 2 to change pin\n",
    "        3. press to check balance\n",
    "        4.press 4 to withdraw\n",
    "        5.anithing else to exit\"\"\")\n",
    "        if user==\"1\":\n",
    "            self.creatpin()\n",
    "        elif user==\"2\":\n",
    "            self.changepin()\n",
    "        elif user==\"3\":\n",
    "            self.checkbalance()\n",
    "        elif user==\"4\":\n",
    "            self.withdraw()\n",
    "        else:\n",
    "            print(\"thank you\")\n",
    "    def creatpin(self):\n",
    "        pin=input(\"Enter pin\")\n",
    "        self.pin=pin\n",
    "        print(\"pin created successfully\")\n",
    "        self.menu()\n",
    "    def changepin(self):\n",
    "        old=input(\"enter your  pin\")\n",
    "        if old==self.pin:\n",
    "            newpin=input(\"enter new pin\")\n",
    "            self.pin=newpin\n",
    "            print(\"pin changed successfull\")\n",
    "        else:\n",
    "            print(\"Enter the correct pin \")\n",
    "        self.menu()\n",
    "    def checkbalance(self):\n",
    "        pin=input(\"enter pin\")\n",
    "        if pin==self.pin:\n",
    "            print(\"your balance= \",self.balance)\n",
    "        else:\n",
    "            print(\"please enter correct pin\")\n",
    "        self.menu()\n",
    "    def withdraw(self):\n",
    "        pin=input(\"enter pin\")\n",
    "        if pin==self.pin:\n",
    "            amount=int(input(\"enter amount to withdraw\"))\n",
    "            if amount<self.balance:\n",
    "                self.balance-=amount\n",
    "                print(\"your new balance is= \",self.balance)\n",
    "                print(\"success\")\n",
    "            else:\n",
    "                print(\"enter correct pin\")\n",
    "                self.menu()\n",
    "sbi=Atm()"
   ]
  },
  {
   "cell_type": "code",
   "execution_count": 1,
   "metadata": {},
   "outputs": [
    {
     "ename": "NameError",
     "evalue": "name 'seft' is not defined",
     "output_type": "error",
     "traceback": [
      "\u001b[1;31m---------------------------------------------------------------------------\u001b[0m",
      "\u001b[1;31mNameError\u001b[0m                                 Traceback (most recent call last)",
      "\u001b[1;32m<ipython-input-1-0ee811ba2acf>\u001b[0m in \u001b[0;36m<module>\u001b[1;34m\u001b[0m\n\u001b[0;32m      5\u001b[0m     \u001b[1;32mdef\u001b[0m \u001b[0mshow\u001b[0m\u001b[1;33m(\u001b[0m\u001b[0mself\u001b[0m\u001b[1;33m)\u001b[0m\u001b[1;33m:\u001b[0m\u001b[1;33m\u001b[0m\u001b[1;33m\u001b[0m\u001b[0m\n\u001b[0;32m      6\u001b[0m         \u001b[0mprint\u001b[0m\u001b[1;33m(\u001b[0m\u001b[0mself\u001b[0m\u001b[1;33m.\u001b[0m\u001b[0mfav\u001b[0m\u001b[1;33m)\u001b[0m\u001b[1;33m\u001b[0m\u001b[1;33m\u001b[0m\u001b[0m\n\u001b[1;32m----> 7\u001b[1;33m \u001b[0mobj\u001b[0m\u001b[1;33m=\u001b[0m\u001b[0mfruit\u001b[0m\u001b[1;33m(\u001b[0m\u001b[1;33m)\u001b[0m\u001b[1;33m\u001b[0m\u001b[1;33m\u001b[0m\u001b[0m\n\u001b[0m\u001b[0;32m      8\u001b[0m \u001b[0mobj\u001b[0m\u001b[1;33m.\u001b[0m\u001b[0mshow\u001b[0m\u001b[1;33m(\u001b[0m\u001b[1;33m)\u001b[0m\u001b[1;33m\u001b[0m\u001b[1;33m\u001b[0m\u001b[0m\n\u001b[0;32m      9\u001b[0m \u001b[0mprint\u001b[0m\u001b[1;33m(\u001b[0m\u001b[0mfruit\u001b[0m\u001b[1;33m.\u001b[0m\u001b[0mfav\u001b[0m\u001b[1;33m)\u001b[0m\u001b[1;33m\u001b[0m\u001b[1;33m\u001b[0m\u001b[0m\n",
      "\u001b[1;32m<ipython-input-1-0ee811ba2acf>\u001b[0m in \u001b[0;36m__init__\u001b[1;34m(self)\u001b[0m\n\u001b[0;32m      2\u001b[0m     \u001b[0mfav\u001b[0m\u001b[1;33m=\u001b[0m\u001b[1;34m\"apple\"\u001b[0m\u001b[1;33m\u001b[0m\u001b[1;33m\u001b[0m\u001b[0m\n\u001b[0;32m      3\u001b[0m     \u001b[1;32mdef\u001b[0m \u001b[0m__init__\u001b[0m\u001b[1;33m(\u001b[0m\u001b[0mself\u001b[0m\u001b[1;33m)\u001b[0m\u001b[1;33m:\u001b[0m\u001b[1;33m\u001b[0m\u001b[1;33m\u001b[0m\u001b[0m\n\u001b[1;32m----> 4\u001b[1;33m         \u001b[0mseft\u001b[0m\u001b[1;33m.\u001b[0m\u001b[0mfav\u001b[0m\u001b[1;33m=\u001b[0m\u001b[1;34m\"orange\"\u001b[0m\u001b[1;33m\u001b[0m\u001b[1;33m\u001b[0m\u001b[0m\n\u001b[0m\u001b[0;32m      5\u001b[0m     \u001b[1;32mdef\u001b[0m \u001b[0mshow\u001b[0m\u001b[1;33m(\u001b[0m\u001b[0mself\u001b[0m\u001b[1;33m)\u001b[0m\u001b[1;33m:\u001b[0m\u001b[1;33m\u001b[0m\u001b[1;33m\u001b[0m\u001b[0m\n\u001b[0;32m      6\u001b[0m         \u001b[0mprint\u001b[0m\u001b[1;33m(\u001b[0m\u001b[0mself\u001b[0m\u001b[1;33m.\u001b[0m\u001b[0mfav\u001b[0m\u001b[1;33m)\u001b[0m\u001b[1;33m\u001b[0m\u001b[1;33m\u001b[0m\u001b[0m\n",
      "\u001b[1;31mNameError\u001b[0m: name 'seft' is not defined"
     ]
    }
   ],
   "source": [
    "class fruit:\n",
    "    fav=\"apple\"\n",
    "    def __init__(self):\n",
    "        self.fav=\"orange\"\n",
    "    def show(self):\n",
    "        print(self.fav)\n",
    "obj=fruit()\n",
    "obj.show()\n",
    "print(fruit.fav)\n"
   ]
  }
 ],
 "metadata": {
  "kernelspec": {
   "display_name": "Python 3",
   "language": "python",
   "name": "python3"
  },
  "language_info": {
   "codemirror_mode": {
    "name": "ipython",
    "version": 3
   },
   "file_extension": ".py",
   "mimetype": "text/x-python",
   "name": "python",
   "nbconvert_exporter": "python",
   "pygments_lexer": "ipython3",
   "version": "3.8.5"
  }
 },
 "nbformat": 4,
 "nbformat_minor": 4
}
